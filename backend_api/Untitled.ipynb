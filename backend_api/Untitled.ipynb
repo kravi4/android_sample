{
 "cells": [
  {
   "cell_type": "code",
   "execution_count": 497,
   "metadata": {},
   "outputs": [
    {
     "name": "stdout",
     "output_type": "stream",
     "text": [
      "[nltk_data] Downloading package wordnet to\n",
      "[nltk_data]     /Users/karthikravi/nltk_data...\n",
      "[nltk_data]   Package wordnet is already up-to-date!\n"
     ]
    },
    {
     "data": {
      "text/plain": [
       "True"
      ]
     },
     "execution_count": 497,
     "metadata": {},
     "output_type": "execute_result"
    }
   ],
   "source": [
    "from sklearn.feature_extraction.text import TfidfVectorizer\n",
    "from sklearn.cluster import KMeans\n",
    "from sklearn.metrics import adjusted_rand_score\n",
    "from scipy.spatial.distance import cdist\n",
    "import pandas as pd\n",
    "import pymysql\n",
    "import datetime\n",
    "import sys\n",
    "import gensim\n",
    "from gensim.utils import simple_preprocess\n",
    "from gensim.parsing.preprocessing import STOPWORDS\n",
    "from nltk.stem import WordNetLemmatizer, SnowballStemmer\n",
    "from nltk.stem.porter import *\n",
    "import sklearn.feature_extraction.text as text\n",
    "import numpy as np\n",
    "np.random.seed(2018)\n",
    "import nltk\n",
    "nltk.download('wordnet')"
   ]
  },
  {
   "cell_type": "code",
   "execution_count": 498,
   "metadata": {
    "collapsed": true
   },
   "outputs": [],
   "source": [
    "rds_host = 'xbias-backend.cytnlddqky1c.us-east-2.rds.amazonaws.com'\n",
    "username = 'xBias_master'\n",
    "password = 'Kr19972=14'\n",
    "db_name = 'xbias_backend'"
   ]
  },
  {
   "cell_type": "code",
   "execution_count": 524,
   "metadata": {},
   "outputs": [
    {
     "name": "stdout",
     "output_type": "stream",
     "text": [
      "189\n"
     ]
    }
   ],
   "source": [
    "description_list=[]\n",
    "yesterday = (datetime.date.today()-datetime.timedelta(1)).strftime('%Y-%m-%d')\n",
    "yesterday=\"'%\"+yesterday+\"%'\"\n",
    "\n",
    "# print(today)\n",
    "#  WHERE publish_timestamp like {0}\n",
    "\n",
    "conn = pymysql.connect(rds_host, user = username, passwd = password, db= db_name, connect_timeout = 5)\n",
    "with conn.cursor() as cur:\n",
    "    cur.execute(\"\"\"SELECT * FROM article_table WHERE publish_timestamp like {0}\"\"\".format(yesterday))\n",
    "    result = cur.fetchall()\n",
    "    cur.close()\n",
    "    i=1\n",
    "    for row in result:\n",
    "        if row[5] != 'No Listed description':\n",
    "            description_list.append(row[5])\n",
    "        else:\n",
    "            description_list.append(row[4])\n",
    "\n",
    "description_list=np.array(description_list)\n",
    "print(len(description_list))"
   ]
  },
  {
   "cell_type": "code",
   "execution_count": 501,
   "metadata": {},
   "outputs": [],
   "source": [
    "from sklearn.feature_extraction.text import TfidfVectorizer, CountVectorizer\n",
    "\n",
    "no_features = 1000\n",
    "\n",
    "# NMF is able to use tf-idf\n",
    "tfidf_vectorizer = TfidfVectorizer(stop_words='english')\n",
    "tfidf = tfidf_vectorizer.fit_transform(description_list).toarray()\n",
    "vocab_tfidf = np.array(tfidf_vectorizer.get_feature_names())\n",
    "\n",
    "# LDA can only use raw term counts for LDA because it is a probabilistic graphical model\n",
    "tf_vectorizer = CountVectorizer( stop_words='english', min_df=20)\n",
    "tf = tf_vectorizer.fit_transform(description_list).toarray()\n",
    "vocab_tf = np.array(tf_vectorizer.get_feature_names())\n",
    "#print(tf_feature_names)"
   ]
  },
  {
   "cell_type": "code",
   "execution_count": 502,
   "metadata": {},
   "outputs": [
    {
     "name": "stdout",
     "output_type": "stream",
     "text": [
      "2: Andrew Gillum, a Black Progressive, and Ron DeSantis, a Trump Acolyte, Win Florida Governor Primaries\n",
      "1: Nearly 3000 people died in Puerto Rico in the wake of Hurricane Maria\n",
      "16: California Lawmakers Set Goal for Carbon-Free Energy by 2045\n",
      "2: Tallahassee Mayor Andrew Gillum will win the Democratic nomination for governor of Florida, CNN projects, scoring a major victory for the party's progressive wing while taking another step toward becoming the state's first black chief executive.\n",
      "1: The official count had been 64 in the 11 months since the storm, though media outlets and academics put the count much higher, more than 1,000.\n",
      "3: The legislation comes on top of an earlier move requiring the state to generate 50 percent of its electricity from renewable sources by 2030.\n",
      "7: “They will end everything immediately,” the president told a meeting of evangelical leaders at the White House, according to an audiotape of the remarks.\n",
      "12: With Mr. Gillum’s upset victory, the governor’s race will feature two young, hard-charging politicians who represent the beating heart of their parties.\n",
      "16: California Lawmakers Vote to Mandate Carbon-Free Electricity Generation\n",
      "4: The Coast Guard on Tuesday set up a safety zone and Navy divers went into Port Orchard Bay in Puget Sound in Washington to retrieve an unexploded mine.\n",
      "13: A parting lesson in American civility from Sen. John McCain lies in the roster of leaders he personally selected to pay tribute at his memorial service Saturday at the National Cathedral.\n",
      "2: Rep. Kyrsten Sinema (D-Ariz.) easily secured her party’s Senate primary, coasting to victory with a nearly 100-to-1 fundraising advantage against progressive activist Deedra Abboud.\n",
      "2: Rep. Martha McSally fends off right-wing challengers in Arizona GOP Senate race, CNN projects\n",
      "1: Archbishop Carlo Maria Viganò wrote a 7,000-word letter that called for the resignation of Pope Francis, accusing him of covering up sexual abuse in the Roman Catholic Church.\n",
      "3: Body was found in home of Brian Egg, 65, who was reported missing in late July after family and friends hadn't had contact with him since June\n",
      "0: U.S. President Donald Trump said on Twitter early on Wednesday China hacked the emails of 2016 Democratic presidential candidate Hillary Clinton but did not offer any evidence or further information.\n",
      "5: Thousands of bees swarmed this Times Square hot dog stand\n",
      "8: It's the first state to eliminate bail. But some fear an increase in preventive detention.\n",
      "1: The latest official death toll from Hurricane Maria shows that nearly as many people died as a result of the storm as did during the Sept. 11 terror attacks.\n",
      "13: Funeral events for John McCain begin, possible retrial for Paul Manafort, taxpayers subsidize CEO pay gap: The biggest news to start your day.\n",
      "8: Russian Proposal to Raise Retirement Age Poses Problems for Putin\n",
      "1: Tears and gasps after ex-officer gets a rare murder verdict for teen's death\n",
      "15: Trump Takes Battle Over Media Coverage to `Rigged' News Feeds\n",
      "9: Load Trail was previously charged with knowingly hiring illegal workers in Texas.\n",
      "13: Inside McCain's surprise eulogy invitation to Obama\n",
      "9: Federal immigration agents detained more than 100 people suspected of using fraudulent identification documents to get a job at a trailer manufacturer in North Texas, authorities said.\n",
      "9: When a judge read the guilty verdict in the police shooting of black teen Jordan Edwards in Texas, the victim's family gasped. Guilty verdicts of officers are so rare, relatives were stunned.\n",
      "12: With Mr. Gillum’s upset victory, the governor’s race will feature two young, hard-charging politicians who represent the beating heart of their parties.\n",
      "11: Canada and United States are set to tackle their contentious issues in bilateral talks on Wednesday, as the two nations work to salvage the North American Free Trade Agreement amid signs Ottawa was open to taking a more conciliatory approach.\n",
      "0: In overnight tweets, the president urged the Justice Department and FBI to look into the issue, which was raised in a report by the Daily Caller.\n",
      "12: Wednesday: What actors-turned-politicians bring to the table, and a new NYC Ferry route.\n",
      "12: The mother of one of the slain students was elected to the school board, and two young candidates will compete for governor, in a possible sign of youth enthusiasm\n",
      "11: US to Stress Friday Nafta Deadline as Canada Joins Talks\n",
      "1: Hurricane Maria killed 2975 people in Puerto Rico. It's the second deadliest US storm in over a century.\n",
      "1: Jacob Caldwell was found more than a year after witnessing the shooting death of his father, said local reports. His mother faces murder charges.\n",
      "2: Two workers were killed early Wednesday when scaffolding collapsed at a Florida construction site near the Walt Disney World Resort, authorities said.\n",
      "1: The new death toll from Hurricane Maria is making the storm one of the deadliest hurricanes in US history.\n",
      "0: Legally, President Donald Trump could probably terminate the North American Free Trade Agreement., experts say. Politically, it won't be easy.\n",
      "10: Fishermen hurl stones, flares and insults, make dangerous maneuvers in English Channel over prized catch\n",
      "8: Russian President Vladimir Putin softened a plan to raise pension ages to bolster state finances, a rare backtrack following a public outcry that cut his approval ratings to the lowest in more than four years.\n",
      "14: US GDP Growth Revised Up in Second Quarter\n",
      "15: Tesla CEO Elon Musk on Tuesday said on Twitter it was \"\"strange\"\" the British Thai cave rescue diver had not sued Musk for calling him a \"\"pedo.\"\"\n",
      "0: Donald Trump was the big winner Tuesday night\n",
      "9: Fire Rescue spokesman Mike Jachles said the support structure gave way, sending two workers plummeting to their deaths.\n",
      "13: John McCain: Why Joe Biden will eulogize his longtime friend. 'If he needed my personal help, I'd go'\n",
      "8: The Russian president, addressing an unpopular pension overhaul, said the age increase for women would be reduced by three years, while the rise for men would stay the same.\n",
      "7: Roy Oliver shot into the car Edwards entered after leaving a house party.\n",
      "5: New York Today: When Acting Meets Politics\n",
      "0: President Donald Trump took a huge risk by holding a summit with North Korean leader Kim Jong Un and hailing it as a stunning history-changing success.\n",
      "5: Cuomo is known for liking the thermostat set low. Nixon isn't a fan.\n",
      "10: Fishermen hurl stones, flares and insults, make dangerous maneuvers in English Channel over prized catch\n",
      "15: Plus, DOJ's Ohr grilled; CNN under fire for refusing to retract false Trump story\n",
      "14: US second-quarter GDP growth raised to 4.2 percent; consumer spending cut\n",
      "15: Donald Trump Was Forced To Unblock Twitter Critics. Now They're Getting Sweet Revenge.\n",
      "7: White House counsel Don McGahn, who had extraordinary access to the president during some of his most controversial decisions, plans to leave his post.\n",
      "14: Two plastic bags of human remains were discovered in a Bronx park on Tuesday, making it the second similar grisly discovery within a week in the New York City borough, police said.\n",
      "14: U.S. economic growth was a bit stronger than initially thought in the second quarter, notching its best performance in nearly four years and putting the economy on track to hit the Trump administration's goal of 3 percent annual growth.\n",
      "13: The death of Arizona Sen. John McCain has occasioned a number of heartfelt tributes as the nation pays homage to a man who sacrificed much for this country. But how will McCain be remembered in the Senate, the place where he spent the final 30+ years of his l…\n",
      "9: Federal immigration agents have arrested 160 workers following a raid at Texas company that manufactures trailers.\n",
      "7: James used example in which a star white athlete and star black athlete are approached by a fan while out with their families and asked for a picture.\n",
      "2: Races for governor have often yielded centrist candidates. Voters in Florida, Oklahoma and Arizona chose a different route. And women, once again, made a strong showing in House races.\n",
      "2: 5 major lessons from Andrew Gillum's shocking win in Florida\n",
      "4: A group of around 35 small boats attempted to chase larger British vessels away from waters off the coast of Normandy.\n",
      "15: What happens when you Google \"\"Trump news\"\" from abroad.\n",
      "8: The Russian president, addressing an unpopular pension overhaul, said the age increase for women would be reduced by three years, while the rise for men would stay the same.\n",
      "11: US Stocks Rise as Nafta Talks Proceed\n",
      "2: The GOP candidate for governor also called Gillum \"\"articulate.\"\"\n",
      "6: McGahn’s coming departure is widely seen within President Trump’s circle as the culmination of frustrations that have come with each new crisis.\n",
      "9: Ice agents raided Load Trailer after receiving tips that it hired people who used fraudulent identification documents\n",
      "2: The last major primary before November packed a major surprise: Tallahassee Mayor Andrew Gillum edged out former Rep. Gwen Graham for the Florida Democratic gubernatorial nomination, taking a major step toward being Florida's first black governor.\n",
      "4: Authorities detonate mysterious mine floating in Puget Sound\n",
      "11: Trade talks between the United States and Canada resumed on Wednesday morning and the two countries inched closer toward resolving their differences over Nafta.\n",
      "0: In overnight tweets, the president urged the Justice Department to look into the matter, which was raised in a report by the Daily Caller and aired on Fox News.\n",
      "11: Canada Aims for Nafta Deal This Week But 'Huge' Work Remains\n",
      "13: Google Maps Briefly Calls Complex 'McCain Senate Office Building'\n",
      "1: The sleeping giant may be about to awaken. Hurricane activity in the Atlantic is forecast to ramp up over the next couple of weeks. One storm could spin up in the Caribbean over the next couple of days and potentially impact Florida over the Labor Day weekend.\n",
      "2: The decision by the International Trade Commission is a win for small- and medium-sized newspapers, which have struggled to absorb the cost of higher newsprint.\n",
      "1: The Atlantic Has Been Quiet—Too Quiet—This Hurricane Season\n",
      "0: Lawyers for former Trump chairman said the ‘inside-the-Beltway’ area is saturated with negative political news.\n",
      "4: Bomb technicians from the Navy detonated a \"\"dated military mine\"\" on Tuesday that was found floating hours earlier in Washington's Puget Sound between Brownsville Marina and Bainbridge Island.\n",
      "5: New York Gov. Cuomo and Challenger Cynthia Nixon Set to Square Off in Debate\n",
      "10: Whether it’s women in offices or dads at schools, we need to keep asking how to make more people more comfortable.\n",
      "13: Sen. John McCain, who died Saturday at the age of 81, will be honored for five days in three cities this week. Follow here for the latest.\n",
      "14: Sources: Second Trump Org employee discussed immunity deal\n",
      "3: US Probing Whether Malaysian Fugitive Laundered Funds to Pay Chris Christie and Trump Lawyer\n",
      "3: The late senator was lying in state in Phoenix as Arizonans began to pay their respects.\n",
      "5: Cynthia Nixon and Andrew Cuomo to square off in hotly anticipated debate\n",
      "1: San Juan mayor says the Trump administration killed thousands through neglect during Hurricane Maria\n",
      "0: Critics feel CNN is facing a credibility crisis for standing by a report on the infamous 2016 Trump Tower meeting despite ex-Clinton aide Lanny Davis admitting he was an anonymous source and recanting key details he provided CNN for the story.\n",
      "4: U.S. Coast Guard said 1,500-yard safety zone was put into effect as the ordnance drifted south between Brownsville Marina and Bainbridge Island\n",
      "2: The Republican nominee for governor in Florida drew condemnation from Democrats for a comment about his opponent, Andrew Gillum.\n",
      "1: How Puerto Rico's death toll climbed from 64 to 2975 in Hurricane Maria\n",
      "15: One Twitter user wondered why Republicans were trying to make the Senate candidate look cool.\n",
      "6: The president’s tweet surprised Mr. McGahn, a key witness to the question of whether the president obstructed the Russia inquiry, and effectively forced his exit.\n",
      "1: Puerto Rico's true death toll from Hurricane Maria remains elusive as the storm's one-year anniversary approaches. The island government raised the official death toll to 2,975 on Tuesday after maintaining for months that 64 people had died as a result of the…\n",
      "0: Michael Cohen's stunning guilty plea last week ended months of speculation about the fate of President Donald Trump's longtime personal lawyer.\n",
      "5: Cynthia Nixon is no stranger to the stage, but she's never before had a platform quite like this.\n",
      "4: The Coast Guard on Tuesday set up a safety zone and Navy divers went into Port Orchard Bay in Puget Sound in Washington to retrieve an unexploded mine.\n",
      "11: Defense Department moves to clarify comments by Mattis amid tense talks with Pyongyang.\n",
      "6: Canadian officials have insisted Trump remove his new metal tariffs before they finalize a deal.\n",
      "3: The ceremony marked the first of five days of public and private events honoring the late senator.\n",
      "9: More than 100 workers were arrested at a Texas trailer manufacturer Tuesday in a federal immigration raid.\n",
      "9: 2 construction workers die in scaffolding collapse near Disney World\n",
      "0: In the wake of his lawyer's guilty plea, nearly two-thirds of Americans say Donald Trump should voluntarily answer Robert Mueller's questions.\n",
      "13: John McCain remembered in Vietnam as a friend, not an enemy\n",
      "3: The late senator was lying in state in Phoenix as Arizonans began to pay their respects.\n",
      "1: President Donald Trump, facing a drastically revised death toll in Puerto Rico a year after dual hurricanes devastated the island, offered a still-rosy outlook of his administration's handling of the disaster on Wednesday.\n",
      "0: President Donald Trump made a series of posts overnight Tuesday where he claimed Hillary Clinton's emails were hacked by the Chinese.\n",
      "2: Ron DeSantis, the Republican nominee for Florida Governor, was facing backlash Wednesday for saying that his state should not \"\"monkey this up\"\" by electing his Democratic challenger, who is African-American.\n",
      "7: The president announced the long-expected departure of his White House counsel on Twitter after months of estrangement between the two men.\n",
      "11: Trump Warns of 'Bigger Than Ever' War Games If North Korea Talks Stall\n",
      "0: In a tweet Wednesday, the president claimed China hacked Clinton's private email server.\n",
      "16: California Moves to Mandate Female Board Directors\n",
      "0: FBI official pushes back on Trump-spread claim that Chinese firm hacked Clinton emails\n",
      "2: Florida Governor's Race: 'Two Polar Opposites' in the Trump Era\n",
      "9: A man was arrested Wednesday in Pennsylvania and charged with murder in the death of a former Playboy playmate who was found strangled in her apartment last week.\n",
      "5: New York Governor Andrew Cuomo and challenger Cynthia Nixon argued over who is the stauncher opponent of U.S. President Donald Trump on Wednesday in their first and only debate in the campaign for the state's Democratic gubernatorial nomination next month.\n",
      "0: An FBI official said Wednesday the bureau has not found any evidence to back up a claim made by a conservative news organization and spread by President Donald Trump that Hillary Clinton's private email server was hacked by a Chinese-owned company.\n",
      "16: California legislators passed a bill that requires major companies based in the state to put female directors on their boards.\n",
      "5: 'Can You Stop Interrupting?' 'Can You Stop Lying?' Cuomo and Nixon Spar in Debate\n",
      "9: Vermont senator says many of the online retailer's workers are forced to rely on federal assistance\n",
      "16: California Becomes First State To Pass Law Ending All Use Of Money Bail\n",
      "6: The candidates for governor in New York fought over standing up to President Trump, marijuana, health care policy and corruption in Albany.\n",
      "6: McGahn’s departure is widely seen within President Trump’s circle as the culmination of frustrations that have come with each new crisis.\n",
      "1: Some bail reform advocates worry that judges will now detain more people before trial if the only alternative is to release them.\n",
      "15: Trump officials surely know this. Are they trying to force an overthrow?\n",
      "3: The Pennsylvania Department of Corrections announced Wednesday that all state correctional institutions were in “immediate lockdown” after multiple staff members were reportedly exposed to an “unknown substance.”\n",
      "3: Only two other people have had the honor of lying in state in the Arizona State Capitol.\n",
      "15: Trump has regularly attacked Ohr on Twitter.\n",
      "7: Yes, Don McGahn leaving the White House is a very big deal\n",
      "2: Andrew Gillum’s victory in the Democratic gubernatorial primary in Florida comes at a time when racial and ethnic issues are becoming more volatile and explicit in politics.\n",
      "7: The official spin around the news that White House counsel Don McGahn will be leaving his post this fall is in full swing.\n",
      "9: Authorities in Texas said Wednesday that they have identified the woman whose appearance in a bizarre video led to speculation about who she was and what she may have been running from.\n",
      "2: Florida’s race for governor will offer the first major test of the Democratic and Republican party bases, both of which are being transformed in the Trump era.\n",
      "3: State Prisons Grapple With Opioid Contamination\n",
      "6: The way Breitbart and Drudge Report tapped into Trump's populism, Catholic media outlets are becoming players in a new U.S. Catholic Church.\n",
      "0: Clinton's attorney in Paula Jones lawsuit endorses Brett Kavanaugh for Supreme Court\n",
      "16: Opposition to the attorney general’s firing, long seen as a red line by lawmakers, has softened in recent days.\n",
      "1: Trump touts Puerto Rico response as 'fantastic' despite nearly 3000 dead\n",
      "15: Trump has regularly attacked Ohr on Twitter.\n"
     ]
    }
   ],
   "source": [
    "from sklearn.decomposition import NMF, LatentDirichletAllocation\n",
    "\n",
    "no_topics = 17\n",
    "\n",
    "# Run NMF\n",
    "nmf = NMF(n_components=no_topics, random_state=1, alpha=.1, l1_ratio=.5, init='nndsvda')\n",
    "doctopics=nmf.fit_transform(tfidf)\n",
    "count= 0\n",
    "topic_dic={}\n",
    "for i in range(len(doctopics)):\n",
    "    if (np.max(doctopics[i]) != 0):\n",
    "        count+=1\n",
    "        if np.argmax(doctopics[i]) not in topic_dic:\n",
    "            topic_dic[np.argmax(doctopics[i])]=[]\n",
    "        topic_dic[np.argmax(doctopics[i])].append(str(description_list[i]))\n",
    "        print(str(np.argmax(doctopics[i])) + \": \"+ str(description_list[i]))\n",
    "# # Run LDA\n",
    "# lda = LatentDirichletAllocation(n_topics=no_topics, max_iter=5, learning_method='online', learning_offset=50.,random_state=0).fit(tf)"
   ]
  },
  {
   "cell_type": "code",
   "execution_count": 503,
   "metadata": {},
   "outputs": [
    {
     "name": "stdout",
     "output_type": "stream",
     "text": [
      "140\n",
      "74.07407407407408\n"
     ]
    }
   ],
   "source": [
    "topic_words = []\n",
    "\n",
    "for topic in nmf.components_:\n",
    "    word_idx = np.argsort(topic)[::-1][0:20]\n",
    "    topic_words.append([vocab_tfidf[i] for i in word_idx])\n",
    "\n",
    "print(count)\n",
    "print(str(count/len(description_list)*100))"
   ]
  },
  {
   "cell_type": "code",
   "execution_count": 493,
   "metadata": {},
   "outputs": [
    {
     "name": "stdout",
     "output_type": "stream",
     "text": [
      "U.S. President Donald Trump said on Twitter early on Wednesday China hacked the emails of 2016 Democratic presidential candidate Hillary Clinton but did not offer any evidence or further information.\n",
      "\n",
      "Trump Takes Battle Over Media Coverage to `Rigged' News Feeds\n",
      "\n",
      "Legally, President Donald Trump could probably terminate the North American Free Trade Agreement., experts say. Politically, it won't be easy.\n",
      "\n",
      "Donald Trump was the big winner Tuesday night\n",
      "\n",
      "President Donald Trump took a huge risk by holding a summit with North Korean leader Kim Jong Un and hailing it as a stunning history-changing success.\n",
      "\n",
      "Donald Trump Was Forced To Unblock Twitter Critics. Now They're Getting Sweet Revenge.\n",
      "\n",
      "What happens when you Google \"\"Trump news\"\" from abroad.\n",
      "\n",
      "Lawyers for former Trump chairman said the ‘inside-the-Beltway’ area is saturated with negative political news.\n",
      "\n",
      "Critics feel CNN is facing a credibility crisis for standing by a report on the infamous 2016 Trump Tower meeting despite ex-Clinton aide Lanny Davis admitting he was an anonymous source and recanting key details he provided CNN for the story.\n",
      "\n",
      "Michael Cohen's stunning guilty plea last week ended months of speculation about the fate of President Donald Trump's longtime personal lawyer.\n",
      "\n",
      "In the wake of his lawyer's guilty plea, nearly two-thirds of Americans say Donald Trump should voluntarily answer Robert Mueller's questions.\n",
      "\n",
      "President Donald Trump made a series of posts overnight Tuesday where he claimed Hillary Clinton's emails were hacked by the Chinese.\n",
      "\n",
      "In a tweet Wednesday, the president claimed China hacked Clinton's private email server.\n",
      "\n",
      "FBI official pushes back on Trump-spread claim that Chinese firm hacked Clinton emails\n",
      "\n",
      "An FBI official said Wednesday the bureau has not found any evidence to back up a claim made by a conservative news organization and spread by President Donald Trump that Hillary Clinton's private email server was hacked by a Chinese-owned company.\n",
      "\n"
     ]
    }
   ],
   "source": [
    "for phrase in topic_dic[0]:\n",
    "    print(phrase)\n",
    "    print()"
   ]
  },
  {
   "cell_type": "code",
   "execution_count": 504,
   "metadata": {},
   "outputs": [
    {
     "name": "stdout",
     "output_type": "stream",
     "text": [
      "Topic 0: hacked clinton chinese emails president hillary donald trump claimed server email claim spread fbi wednesday\n",
      "Topic 1: maria hurricane rico puerto toll death storm people 2975 died deadliest 64 nearly 3000 climbed\n",
      "Topic 2: florida major gillum andrew governor win democratic black republican progressive nomination lessons shocking era tallahassee\n",
      "Topic 3: lying state began arizonans phoenix respects senator late pay capitol honor arizona people honoring marked\n",
      "Topic 4: sound puget washington navy zone guard safety coast divers bay retrieve went unexploded port orchard\n",
      "Topic 5: nixon cuomo debate cynthia square challenger york set new hotly anticipated andrew stop gov spar\n",
      "Topic 6: culmination circle frustrations come widely departure seen crisis mcgahn new president trump coming exit experts\n",
      "Topic 7: house white don mcgahn leaving counsel post yes big swing fall spin deal president plans\n",
      "Topic 8: russian stay unpopular overhaul reduced addressing pension age increase men rise women years said president\n",
      "Topic 9: federal immigration texas raid workers arrested trailer manufacturer 100 agents 160 trailers manufactures tuesday company\n",
      "Topic 10: catch stones channel insults english flares maneuvers prized fishermen hurl dangerous make zone explicit experts\n",
      "Topic 11: nafta talks canada stocks proceed deadline stress joins friday rise work aims huge states remains\n",
      "Topic 12: represent parties beating hard heart charging upset feature young politicians mr race victory gillum governor\n",
      "Topic 13: mccain john friend remembered enemy vietnam biden needed joe eulogize sen personal longtime help saturday\n",
      "Topic 14: growth quarter second gdp revised percent spending consumer cut raised economic best performance putting notching\n",
      "Topic 15: attacked regularly ohr twitter trump fan extremists exit expected farewell experts explicit exposed extraordinary facebook\n",
      "Topic 16: california carbon lawmakers mandate free generation vote directors electricity female energy 2045 goal moves board\n"
     ]
    }
   ],
   "source": [
    "for t in range(len(topic_words)):\n",
    "    print(\"Topic {}: {}\".format(t, ' '.join(topic_words[t][:15])))"
   ]
  },
  {
   "cell_type": "code",
   "execution_count": 417,
   "metadata": {},
   "outputs": [
    {
     "data": {
      "text/plain": [
       "array([ 0.,  0.,  0.,  0.,  0.,  0.,  0.,  0.,  0.,  0.])"
      ]
     },
     "execution_count": 417,
     "metadata": {},
     "output_type": "execute_result"
    }
   ],
   "source": [
    "doctopic[2, :]"
   ]
  },
  {
   "cell_type": "code",
   "execution_count": 313,
   "metadata": {},
   "outputs": [
    {
     "name": "stdout",
     "output_type": "stream",
     "text": [
      "How a Pentagon deal became an identity crisis for Google\n"
     ]
    }
   ],
   "source": [
    "def display_topics(model, feature_names, no_top_words):\n",
    "    for topic_idx, topic in enumerate(model.components_):\n",
    "        print(\"Topic {0}\".format(topic_idx))\n",
    "        print(\" \".join([feature_names[i] for i in topic.argsort()[:-no_top_words - 1:-1]]))\n",
    "\n",
    "no_top_words = 10\n",
    "display_topics(nmf, tfidf_feature_names, no_top_words)\n",
    "# display_topics(lda, tf_feature_names, no_top_words)"
   ]
  },
  {
   "cell_type": "code",
   "execution_count": null,
   "metadata": {
    "collapsed": true
   },
   "outputs": [],
   "source": []
  }
 ],
 "metadata": {
  "kernelspec": {
   "display_name": "Python 3",
   "language": "python",
   "name": "python3"
  },
  "language_info": {
   "codemirror_mode": {
    "name": "ipython",
    "version": 3
   },
   "file_extension": ".py",
   "mimetype": "text/x-python",
   "name": "python",
   "nbconvert_exporter": "python",
   "pygments_lexer": "ipython3",
   "version": "3.6.2"
  }
 },
 "nbformat": 4,
 "nbformat_minor": 2
}
